{
 "cells": [
  {
   "cell_type": "code",
   "execution_count": 34,
   "metadata": {},
   "outputs": [],
   "source": [
    "import pandas as pd\n",
    "import os\n",
    "import matplotlib.pyplot as plt\n",
    "import csv"
   ]
  },
  {
   "cell_type": "code",
   "execution_count": 2,
   "metadata": {},
   "outputs": [],
   "source": [
    "NBA_data = pd.read_csv('static/data/nba_games_stats.csv')"
   ]
  },
  {
   "cell_type": "code",
   "execution_count": 3,
   "metadata": {
    "scrolled": true
   },
   "outputs": [],
   "source": [
    "NBA_data.drop(['Unnamed: 0'], axis=1, inplace=True)\n",
    "\n",
    "teams = NBA_data.Team.unique()\n",
    "homeaway=[]\n",
    "for i in range(len(NBA_data)):\n",
    "    if NBA_data.Home.iloc[i] == 'Home':\n",
    "        homeaway.append(1)\n",
    "    else:\n",
    "        homeaway.append(0)\n",
    "\n",
    "NBA_data['Home_encoded'] = homeaway\n",
    "NBA_data['X2PointShots'] = NBA_data['FieldGoals']-NBA_data['X3PointShots']\n",
    "NBA_data['X2PointShotsAttempted'] = NBA_data['FieldGoalsAttempted']-NBA_data['X3PointShotsAttempted']\n",
    "NBA_data['X2PointShotsPct'] = NBA_data['X2PointShots']/NBA_data['X2PointShotsAttempted']\n",
    "NBA_data['eFG%'] = (NBA_data['X3PointShots']*1.5+NBA_data['X2PointShots'])/NBA_data['FieldGoalsAttempted']\n",
    "NBA_data['Opp2PointShots'] = NBA_data['OppFieldGoals']-NBA_data['Opp3PointShots']\n",
    "NBA_data['Opp2PointShotsAttempted'] = NBA_data['OppFieldGoalsAttempted']-NBA_data['Opp3PointShotsAttempted']\n",
    "NBA_data['Opp2PointShotsPct'] = NBA_data['Opp2PointShots']/NBA_data['Opp2PointShotsAttempted']\n",
    "NBA_data['OppeFG%'] = (NBA_data['Opp3PointShots']*1.5+NBA_data['Opp2PointShots'])/NBA_data['OppFieldGoalsAttempted']\n",
    "NBA_data['DefRebounds'] = NBA_data['TotalRebounds']-NBA_data['OffRebounds']"
   ]
  },
  {
   "cell_type": "code",
   "execution_count": 4,
   "metadata": {},
   "outputs": [],
   "source": [
    "MLR_nba = NBA_data[['Home_encoded','TeamPoints', 'OpponentPoints', 'FieldGoals', 'FieldGoalsAttempted',\n",
    "       'FieldGoalsPct', 'X3PointShots', 'X3PointShotsAttempted',\n",
    "       'X3PointShotsPct', 'FreeThrows', 'FreeThrowsAttempted', 'FreeThrowsPct',\n",
    "       'OffRebounds', 'TotalRebounds', 'Assists', 'Steals', 'Blocks',\n",
    "       'Turnovers', 'TotalFouls', 'OppFieldGoals', 'OppFieldGoalsAttempted',\n",
    "       'OppFieldGoalsPct', 'Opp3PointShots', 'Opp3PointShotsAttempted',\n",
    "       'Opp3PointShotsPct', 'OppFreeThrows', 'OppFreeThrowsAttempted',\n",
    "       'OppFreeThrowsPct', 'OppOffRebounds', 'OppTotalRebounds', 'OppAssists',\n",
    "       'OppSteals', 'OppBlocks', 'OppTurnovers', 'OppTotalFouls','X2PointShots', 'X2PointShotsAttempted', 'X2PointShotsPct', 'eFG%',\n",
    "       'Opp2PointShots', 'Opp2PointShotsAttempted', 'Opp2PointShotsPct',\n",
    "       'OppeFG%', 'DefRebounds']]"
   ]
  },
  {
   "cell_type": "code",
   "execution_count": 5,
   "metadata": {},
   "outputs": [
    {
     "data": {
      "text/plain": [
       "Index(['index', 'Team', 'Game', 'Date', 'Home', 'Opponent', 'WINorLOSS',\n",
       "       'TeamPoints', 'OpponentPoints', 'FieldGoals', 'FieldGoalsAttempted',\n",
       "       'FieldGoalsPct', 'X3PointShots', 'X3PointShotsAttempted',\n",
       "       'X3PointShotsPct', 'FreeThrows', 'FreeThrowsAttempted', 'FreeThrowsPct',\n",
       "       'OffRebounds', 'TotalRebounds', 'Assists', 'Steals', 'Blocks',\n",
       "       'Turnovers', 'TotalFouls', 'OppFieldGoals', 'OppFieldGoalsAttempted',\n",
       "       'OppFieldGoalsPct', 'Opp3PointShots', 'Opp3PointShotsAttempted',\n",
       "       'Opp3PointShotsPct', 'OppFreeThrows', 'OppFreeThrowsAttempted',\n",
       "       'OppFreeThrowsPct', 'OppOffRebounds', 'OppTotalRebounds', 'OppAssists',\n",
       "       'OppSteals', 'OppBlocks', 'OppTurnovers', 'OppTotalFouls', 'Logo',\n",
       "       'Home_encoded', 'X2PointShots', 'X2PointShotsAttempted',\n",
       "       'X2PointShotsPct', 'eFG%', 'Opp2PointShots', 'Opp2PointShotsAttempted',\n",
       "       'Opp2PointShotsPct', 'OppeFG%', 'DefRebounds'],\n",
       "      dtype='object')"
      ]
     },
     "execution_count": 5,
     "metadata": {},
     "output_type": "execute_result"
    }
   ],
   "source": [
    "NBA_data.columns"
   ]
  },
  {
   "cell_type": "code",
   "execution_count": 6,
   "metadata": {},
   "outputs": [
    {
     "data": {
      "text/plain": [
       "Home_encoded                 int64\n",
       "TeamPoints                   int64\n",
       "OpponentPoints               int64\n",
       "FieldGoals                   int64\n",
       "FieldGoalsAttempted          int64\n",
       "FieldGoalsPct              float64\n",
       "X3PointShots                 int64\n",
       "X3PointShotsAttempted        int64\n",
       "X3PointShotsPct            float64\n",
       "FreeThrows                   int64\n",
       "FreeThrowsAttempted          int64\n",
       "FreeThrowsPct              float64\n",
       "OffRebounds                  int64\n",
       "TotalRebounds                int64\n",
       "Assists                      int64\n",
       "Steals                       int64\n",
       "Blocks                       int64\n",
       "Turnovers                    int64\n",
       "TotalFouls                   int64\n",
       "OppFieldGoals                int64\n",
       "OppFieldGoalsAttempted       int64\n",
       "OppFieldGoalsPct           float64\n",
       "Opp3PointShots               int64\n",
       "Opp3PointShotsAttempted      int64\n",
       "Opp3PointShotsPct          float64\n",
       "OppFreeThrows                int64\n",
       "OppFreeThrowsAttempted       int64\n",
       "OppFreeThrowsPct           float64\n",
       "OppOffRebounds               int64\n",
       "OppTotalRebounds             int64\n",
       "OppAssists                   int64\n",
       "OppSteals                    int64\n",
       "OppBlocks                    int64\n",
       "OppTurnovers                 int64\n",
       "OppTotalFouls                int64\n",
       "X2PointShots                 int64\n",
       "X2PointShotsAttempted        int64\n",
       "X2PointShotsPct            float64\n",
       "eFG%                       float64\n",
       "Opp2PointShots               int64\n",
       "Opp2PointShotsAttempted      int64\n",
       "Opp2PointShotsPct          float64\n",
       "OppeFG%                    float64\n",
       "DefRebounds                  int64\n",
       "dtype: object"
      ]
     },
     "execution_count": 6,
     "metadata": {},
     "output_type": "execute_result"
    }
   ],
   "source": [
    "MLR_nba.dtypes"
   ]
  },
  {
   "cell_type": "code",
   "execution_count": 7,
   "metadata": {
    "scrolled": true
   },
   "outputs": [],
   "source": [
    "y = MLR_nba.TeamPoints\n",
    "X = MLR_nba.drop(columns='TeamPoints')"
   ]
  },
  {
   "cell_type": "code",
   "execution_count": 8,
   "metadata": {},
   "outputs": [],
   "source": [
    "from sklearn.model_selection import train_test_split\n",
    "X_train, X_test, y_train, y_test = train_test_split(X, y, random_state=0)"
   ]
  },
  {
   "cell_type": "code",
   "execution_count": 9,
   "metadata": {},
   "outputs": [
    {
     "name": "stdout",
     "output_type": "stream",
     "text": [
      "(7380, 43) (7380,) (2460, 43) (2460,)\n"
     ]
    }
   ],
   "source": [
    "print(X_train.shape, y_train.shape, X_test.shape, y_test.shape)"
   ]
  },
  {
   "cell_type": "code",
   "execution_count": 10,
   "metadata": {},
   "outputs": [
    {
     "data": {
      "text/plain": [
       "LinearRegression(copy_X=True, fit_intercept=True, n_jobs=None,\n",
       "         normalize=False)"
      ]
     },
     "execution_count": 10,
     "metadata": {},
     "output_type": "execute_result"
    }
   ],
   "source": [
    "from sklearn.linear_model import LinearRegression\n",
    "model = LinearRegression()\n",
    "model.fit(X_train, y_train)"
   ]
  },
  {
   "cell_type": "code",
   "execution_count": 11,
   "metadata": {},
   "outputs": [
    {
     "name": "stdout",
     "output_type": "stream",
     "text": [
      "MSE: 6.604369152523489e-28, R2: 1.0\n"
     ]
    }
   ],
   "source": [
    "from sklearn.metrics import mean_squared_error\n",
    "predictions = model.predict(X_test)\n",
    "MSE = mean_squared_error(y_test, predictions)\n",
    "r2 = model.score(X_test, y_test)\n",
    "\n",
    "print(f\"MSE: {MSE}, R2: {r2}\")"
   ]
  },
  {
   "cell_type": "code",
   "execution_count": 12,
   "metadata": {},
   "outputs": [],
   "source": [
    "coefficients = model.coef_"
   ]
  },
  {
   "cell_type": "code",
   "execution_count": 13,
   "metadata": {},
   "outputs": [
    {
     "data": {
      "image/png": "[encoded data removed]",
      "text/plain": [
       "<Figure size 432x288 with 1 Axes>"
      ]
     },
     "metadata": {
      "needs_background": "light"
     },
     "output_type": "display_data"
    }
   ],
   "source": [
    "plt.scatter(model.predict(X_train), model.predict(X_train) - y_train, c=\"blue\", label=\"Training Data\")\n",
    "plt.scatter(model.predict(X_test), model.predict(X_test) - y_test, c=\"orange\", label=\"Testing Data\")\n",
    "plt.legend()\n",
    "plt.hlines(y=0, xmin=y_test.min(), xmax=y_test.max())\n",
    "plt.title(\"Residual Plot\")\n",
    "plt.show()"
   ]
  },
  {
   "cell_type": "code",
   "execution_count": 14,
   "metadata": {
    "scrolled": true
   },
   "outputs": [
    {
     "data": {
      "text/plain": [
       "TeamPoints         1.000000\n",
       "FieldGoals         0.836203\n",
       "FieldGoalsPct      0.710187\n",
       "X3PointShots       0.518022\n",
       "Assists            0.574607\n",
       "X2PointShotsPct    0.561949\n",
       "eFG%               0.746072\n",
       "Name: TeamPoints, dtype: float64"
      ]
     },
     "execution_count": 14,
     "metadata": {},
     "output_type": "execute_result"
    }
   ],
   "source": [
    "df = MLR_nba.corr()\n",
    "df.iloc[1][(df.iloc[1] > .5)]"
   ]
  },
  {
   "cell_type": "code",
   "execution_count": 15,
   "metadata": {},
   "outputs": [],
   "source": [
    "cf_dict = {}\n",
    "for i in range(len(X.columns)):\n",
    "    cf_dict[X.columns[i]] = coefficients[i]\n",
    "    "
   ]
  },
  {
   "cell_type": "code",
   "execution_count": 35,
   "metadata": {},
   "outputs": [],
   "source": [
    "cf_dict\n",
    "\n",
    "with open('dict.csv', 'w') as csv_file:  \n",
    "    writer = csv.writer(csv_file)\n",
    "    for key, value in cf_dict.items():\n",
    "       writer.writerow([key, value])"
   ]
  },
  {
   "cell_type": "code",
   "execution_count": 17,
   "metadata": {},
   "outputs": [],
   "source": [
    "Player_data = pd.read_csv('static/data/player_game_data.csv')\n",
    "Player_data.Player = Player_data.Player.str.split('\\\\',expand=True)[0]"
   ]
  },
  {
   "cell_type": "code",
   "execution_count": 18,
   "metadata": {},
   "outputs": [
    {
     "data": {
      "text/plain": [
       "array(['OKC', 'MIA', 'SAS', 'NOP', 'MEM', 'BRK', 'NYK', 'ORL', 'HOU',\n",
       "       'MIL', 'LAL', 'POR', 'TOR', 'CHI', 'TOT', 'SAC', 'PHO', 'CHO',\n",
       "       'DAL', 'DEN', 'MIN', 'WAS', 'ATL', 'GSW', 'LAC', 'IND', 'UTA',\n",
       "       'PHI', 'CLE', 'DET', 'BOS'], dtype=object)"
      ]
     },
     "execution_count": 18,
     "metadata": {},
     "output_type": "execute_result"
    }
   ],
   "source": [
    "Player_data.Tm.unique()"
   ]
  },
  {
   "cell_type": "code",
   "execution_count": 19,
   "metadata": {},
   "outputs": [
    {
     "name": "stdout",
     "output_type": "stream",
     "text": [
      "LAL\n"
     ]
    }
   ],
   "source": [
    "user_team1 = input()"
   ]
  },
  {
   "cell_type": "code",
   "execution_count": 20,
   "metadata": {},
   "outputs": [
    {
     "data": {
      "text/plain": [
       "12         Kostas Antetokounmpo\n",
       "70                Avery Bradley\n",
       "98     Kentavious Caldwell-Pope\n",
       "108                 Alex Caruso\n",
       "135                  Quinn Cook\n",
       "151                Troy Daniels\n",
       "153               Anthony Davis\n",
       "177                Jared Dudley\n",
       "230                 Danny Green\n",
       "284         Talen Horton-Tucker\n",
       "286               Dwight Howard\n",
       "307                LeBron James\n",
       "345                  Kyle Kuzma\n",
       "391                JaVale McGee\n",
       "423             Markieff Morris\n",
       "443                Zach Norvell\n",
       "506                 Rajon Rondo\n",
       "Name: Player, dtype: object"
      ]
     },
     "execution_count": 20,
     "metadata": {},
     "output_type": "execute_result"
    }
   ],
   "source": [
    "Player_data[Player_data.Tm == user_team1].Player"
   ]
  },
  {
   "cell_type": "code",
   "execution_count": 21,
   "metadata": {},
   "outputs": [
    {
     "name": "stdout",
     "output_type": "stream",
     "text": [
      "LeBron James\n",
      "Lebron James\n",
      "Lebron James\n",
      "Lebron James\n",
      "Lebron James\n"
     ]
    }
   ],
   "source": [
    "user_player11 = input()\n",
    "user_player12 = input()\n",
    "user_player13 = input()\n",
    "user_player14 = input()\n",
    "user_player15 = input()"
   ]
  },
  {
   "cell_type": "code",
   "execution_count": 22,
   "metadata": {},
   "outputs": [
    {
     "name": "stdout",
     "output_type": "stream",
     "text": [
      "LAC\n"
     ]
    }
   ],
   "source": [
    "user_team2 = input()"
   ]
  },
  {
   "cell_type": "code",
   "execution_count": 23,
   "metadata": {},
   "outputs": [
    {
     "data": {
      "text/plain": [
       "52      Patrick Beverley\n",
       "130          Amir Coffey\n",
       "216          Paul George\n",
       "232       JaMychal Green\n",
       "247     Maurice Harkless\n",
       "250     Montrezl Harrell\n",
       "305       Reggie Jackson\n",
       "326    Mfiondu Kabengele\n",
       "359        Kawhi Leonard\n",
       "376         Terance Mann\n",
       "392      Rodney McGruder\n",
       "420        Marcus Morris\n",
       "425     Johnathan Motley\n",
       "469    Patrick Patterson\n",
       "501      Jerome Robinson\n",
       "524        Landry Shamet\n",
       "586       Derrick Walton\n",
       "607         Lou Williams\n",
       "623          Ivica Zubac\n",
       "Name: Player, dtype: object"
      ]
     },
     "execution_count": 23,
     "metadata": {},
     "output_type": "execute_result"
    }
   ],
   "source": [
    "Player_data[Player_data.Tm == user_team2].Player"
   ]
  },
  {
   "cell_type": "code",
   "execution_count": 24,
   "metadata": {},
   "outputs": [
    {
     "name": "stdout",
     "output_type": "stream",
     "text": [
      "Kawhi Leonard\n",
      "Kawhi Leonard\n",
      "Kawhi Leonard\n",
      "Kawhi Leonard\n",
      "Kawhi Leonard\n"
     ]
    }
   ],
   "source": [
    "user_player21 = input()\n",
    "user_player22 = input()\n",
    "user_player23 = input()\n",
    "user_player24 = input()\n",
    "user_player25 = input()"
   ]
  },
  {
   "cell_type": "code",
   "execution_count": 25,
   "metadata": {},
   "outputs": [],
   "source": [
    "home_team = Player_data[Player_data.Player.isin([user_player11,user_player12,user_player13,user_player14,user_player15])]\n",
    "home_minutes = home_team.MP"
   ]
  },
  {
   "cell_type": "code",
   "execution_count": 26,
   "metadata": {},
   "outputs": [
    {
     "data": {
      "text/plain": [
       "Index(['Rk', 'Player', 'Pos', 'Age', 'Tm', 'G', 'GS', 'MP', 'FG', 'FGA', 'FG%',\n",
       "       '3P', '3PA', '3P%', '2P', '2PA', '2P%', 'eFG%', 'FT', 'FTA', 'FT%',\n",
       "       'ORB', 'DRB', 'TRB', 'AST', 'STL', 'BLK', 'TOV', 'PF', 'PTS'],\n",
       "      dtype='object')"
      ]
     },
     "execution_count": 26,
     "metadata": {},
     "output_type": "execute_result"
    }
   ],
   "source": [
    "home_team.columns"
   ]
  },
  {
   "cell_type": "code",
   "execution_count": 27,
   "metadata": {},
   "outputs": [
    {
     "name": "stderr",
     "output_type": "stream",
     "text": [
      "/Users/jacksalva/anaconda3/lib/python3.7/site-packages/pandas/core/frame.py:3940: SettingWithCopyWarning: \n",
      "A value is trying to be set on a copy of a slice from a DataFrame\n",
      "\n",
      "See the caveats in the documentation: http://pandas.pydata.org/pandas-docs/stable/indexing.html#indexing-view-versus-copy\n",
      "  errors=errors)\n"
     ]
    }
   ],
   "source": [
    "home_team.drop(columns = ['PTS', 'Rk', 'Player', 'Pos', 'Age', 'Tm', 'G', 'GS', 'MP','FG%', 'eFG%', 'FT%', '3P%', '2P%'], inplace=True)"
   ]
  },
  {
   "cell_type": "code",
   "execution_count": 28,
   "metadata": {},
   "outputs": [],
   "source": [
    "home_team_norm = home_team.apply(lambda x: x/home_minutes)*48"
   ]
  },
  {
   "cell_type": "code",
   "execution_count": 29,
   "metadata": {},
   "outputs": [],
   "source": [
    "away_team = {}\n",
    "\n",
    "away_team[player21] = Player_data[Player_data.Player == player21]\n",
    "\n",
    "\n",
    "\n",
    "away_team = Player_data[Player_data.Player.isin([user_player21,user_player22,user_player23,user_player24,user_player25])]\n",
    "away_minutes = away_team.MP"
   ]
  },
  {
   "cell_type": "code",
   "execution_count": 30,
   "metadata": {},
   "outputs": [],
   "source": [
    "away_team.drop(columns = ['PTS', 'Rk', 'Player', 'Pos', 'Age', 'Tm', 'G', 'GS', 'MP','FG%', 'eFG%', 'FT%', '3P%', '2P%'], inplace=True)"
   ]
  },
  {
   "cell_type": "code",
   "execution_count": 31,
   "metadata": {},
   "outputs": [],
   "source": [
    "away_team_norm = away_team.apply(lambda x: x/away_minutes)*48"
   ]
  },
  {
   "cell_type": "code",
   "execution_count": 33,
   "metadata": {},
   "outputs": [
    {
     "data": {
      "text/html": [
       "<div>\n",
       "<style scoped>\n",
       "    .dataframe tbody tr th:only-of-type {\n",
       "        vertical-align: middle;\n",
       "    }\n",
       "\n",
       "    .dataframe tbody tr th {\n",
       "        vertical-align: top;\n",
       "    }\n",
       "\n",
       "    .dataframe thead th {\n",
       "        text-align: right;\n",
       "    }\n",
       "</style>\n",
       "<table border=\"1\" class=\"dataframe\">\n",
       "  <thead>\n",
       "    <tr style=\"text-align: right;\">\n",
       "      <th></th>\n",
       "      <th>FG</th>\n",
       "      <th>FGA</th>\n",
       "      <th>3P</th>\n",
       "      <th>3PA</th>\n",
       "      <th>2P</th>\n",
       "      <th>2PA</th>\n",
       "      <th>FT</th>\n",
       "      <th>FTA</th>\n",
       "      <th>ORB</th>\n",
       "      <th>DRB</th>\n",
       "      <th>TRB</th>\n",
       "      <th>AST</th>\n",
       "      <th>STL</th>\n",
       "      <th>BLK</th>\n",
       "      <th>TOV</th>\n",
       "      <th>PF</th>\n",
       "    </tr>\n",
       "  </thead>\n",
       "  <tbody>\n",
       "    <tr>\n",
       "      <th>359</th>\n",
       "      <td>9.3</td>\n",
       "      <td>19.9</td>\n",
       "      <td>2.1</td>\n",
       "      <td>5.7</td>\n",
       "      <td>7.2</td>\n",
       "      <td>14.2</td>\n",
       "      <td>6.1</td>\n",
       "      <td>6.9</td>\n",
       "      <td>1.0</td>\n",
       "      <td>6.3</td>\n",
       "      <td>7.3</td>\n",
       "      <td>5.0</td>\n",
       "      <td>1.8</td>\n",
       "      <td>0.6</td>\n",
       "      <td>2.7</td>\n",
       "      <td>1.9</td>\n",
       "    </tr>\n",
       "  </tbody>\n",
       "</table>\n",
       "</div>"
      ],
      "text/plain": [
       "      FG   FGA   3P  3PA   2P   2PA   FT  FTA  ORB  DRB  TRB  AST  STL  BLK  \\\n",
       "359  9.3  19.9  2.1  5.7  7.2  14.2  6.1  6.9  1.0  6.3  7.3  5.0  1.8  0.6   \n",
       "\n",
       "     TOV   PF  \n",
       "359  2.7  1.9  "
      ]
     },
     "execution_count": 33,
     "metadata": {},
     "output_type": "execute_result"
    }
   ],
   "source": [
    "away_team"
   ]
  },
  {
   "cell_type": "code",
   "execution_count": null,
   "metadata": {},
   "outputs": [],
   "source": []
  }
 ],
 "metadata": {
  "kernelspec": {
   "display_name": "Python 3",
   "language": "python",
   "name": "python3"
  },
  "language_info": {
   "codemirror_mode": {
    "name": "ipython",
    "version": 3
   },
   "file_extension": ".py",
   "mimetype": "text/x-python",
   "name": "python",
   "nbconvert_exporter": "python",
   "pygments_lexer": "ipython3",
   "version": "3.7.3"
  }
 },
 "nbformat": 4,
 "nbformat_minor": 2
}
