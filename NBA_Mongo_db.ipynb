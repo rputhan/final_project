{
 "cells": [
  {
   "cell_type": "code",
   "execution_count": 1,
   "metadata": {},
   "outputs": [],
   "source": [
    "# Dependencies\n",
    "import pymongo\n",
    "import pandas as pd\n",
    "import os\n",
    "\n",
    "# The default port used by MongoDB is 27017\n",
    "# https://docs.mongodb.com/manual/reference/default-mongodb-port/\n",
    "conn = 'mongodb://localhost:27017/'\n",
    "client = pymongo.MongoClient(conn)\n",
    "\n",
    "NBA_data = pd.read_csv('static/data/nba.games.stats.csv')\n",
    "NBA_data.drop(['Unnamed: 0'], axis=1, inplace=True)\n",
    "NBA_data.reset_index(inplace = True)\n",
    "NBA_data_dict = NBA_data.to_dict(orient = 'records')\n",
    "\n",
    "db = client.NBA_data_db\n",
    "collection = db.NBA_game_stats_db\n",
    "\n",
    "collection.insert_many(NBA_data_dict)"
   ]
  },
  {
   "cell_type": "code",
   "execution_count": null,
   "metadata": {},
   "outputs": [],
   "source": []
  }
 ],
 "metadata": {
  "kernelspec": {
   "display_name": "Python 3",
   "language": "python",
   "name": "python3"
  },
  "language_info": {
   "codemirror_mode": {
    "name": "ipython",
    "version": 3
   },
   "file_extension": ".py",
   "mimetype": "text/x-python",
   "name": "python",
   "nbconvert_exporter": "python",
   "pygments_lexer": "ipython3",
   "version": "3.7.3"
  }
 },
 "nbformat": 4,
 "nbformat_minor": 2
}
